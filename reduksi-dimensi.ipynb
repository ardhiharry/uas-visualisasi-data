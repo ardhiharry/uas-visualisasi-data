{
 "cells": [
  {
   "cell_type": "markdown",
   "id": "4d6d7a5efcc87b41",
   "metadata": {
    "collapsed": false
   },
   "source": [
    "# UAS Teknik Visualisasi Data"
   ]
  },
  {
   "cell_type": "markdown",
   "id": "7d9000e451ada6f0",
   "metadata": {
    "collapsed": false
   },
   "source": [
    "## Import Module"
   ]
  },
  {
   "cell_type": "code",
   "execution_count": 1,
   "id": "7e1eecaa1ef2343a",
   "metadata": {
    "ExecuteTime": {
     "end_time": "2024-01-27T08:24:29.425683366Z",
     "start_time": "2024-01-27T08:24:29.390479287Z"
    },
    "collapsed": false
   },
   "outputs": [],
   "source": [
    "import pandas as pd\n",
    "import numpy as np\n",
    "import matplotlib.pyplot as plt\n",
    "import seaborn as sns\n",
    "from scipy.stats import pearsonr, mode\n",
    "from sklearn.model_selection import train_test_split\n",
    "from sklearn.ensemble import RandomForestClassifier\n",
    "from sklearn.metrics import accuracy_score\n",
    "from sklearn.metrics import confusion_matrix"
   ]
  },
  {
   "cell_type": "markdown",
   "id": "851b0afbbffb4ab4",
   "metadata": {
    "collapsed": false
   },
   "source": [
    "## Read Data From CSV File"
   ]
  },
  {
   "cell_type": "code",
   "execution_count": 2,
   "id": "61bc74fef6023e97",
   "metadata": {
    "ExecuteTime": {
     "end_time": "2024-01-27T08:24:30.981764288Z",
     "start_time": "2024-01-27T08:24:30.944931443Z"
    },
    "collapsed": false
   },
   "outputs": [],
   "source": [
    "df = pd.read_csv('supermarket_sales - Sheet1.csv')"
   ]
  },
  {
   "cell_type": "markdown",
   "id": "456c155bb3cc0af",
   "metadata": {
    "collapsed": false
   },
   "source": [
    "## Read The First 5 Data"
   ]
  },
  {
   "cell_type": "code",
   "execution_count": 3,
   "id": "35b853cf72142000",
   "metadata": {
    "ExecuteTime": {
     "end_time": "2024-01-27T08:24:33.326751311Z",
     "start_time": "2024-01-27T08:24:33.270788466Z"
    },
    "collapsed": false
   },
   "outputs": [
    {
     "data": {
      "text/html": [
       "<div>\n",
       "<style scoped>\n",
       "    .dataframe tbody tr th:only-of-type {\n",
       "        vertical-align: middle;\n",
       "    }\n",
       "\n",
       "    .dataframe tbody tr th {\n",
       "        vertical-align: top;\n",
       "    }\n",
       "\n",
       "    .dataframe thead th {\n",
       "        text-align: right;\n",
       "    }\n",
       "</style>\n",
       "<table border=\"1\" class=\"dataframe\">\n",
       "  <thead>\n",
       "    <tr style=\"text-align: right;\">\n",
       "      <th></th>\n",
       "      <th>Invoice ID</th>\n",
       "      <th>Branch</th>\n",
       "      <th>City</th>\n",
       "      <th>Customer type</th>\n",
       "      <th>Gender</th>\n",
       "      <th>Product line</th>\n",
       "      <th>Unit price</th>\n",
       "      <th>Quantity</th>\n",
       "      <th>Tax 5%</th>\n",
       "      <th>Total</th>\n",
       "      <th>Date</th>\n",
       "      <th>Time</th>\n",
       "      <th>Payment</th>\n",
       "      <th>cogs</th>\n",
       "      <th>gross margin percentage</th>\n",
       "      <th>gross income</th>\n",
       "      <th>Rating</th>\n",
       "    </tr>\n",
       "  </thead>\n",
       "  <tbody>\n",
       "    <tr>\n",
       "      <th>0</th>\n",
       "      <td>750-67-8428</td>\n",
       "      <td>A</td>\n",
       "      <td>Yangon</td>\n",
       "      <td>Member</td>\n",
       "      <td>Female</td>\n",
       "      <td>Health and beauty</td>\n",
       "      <td>74.69</td>\n",
       "      <td>7</td>\n",
       "      <td>26.1415</td>\n",
       "      <td>548.9715</td>\n",
       "      <td>1/5/2019</td>\n",
       "      <td>13:08</td>\n",
       "      <td>Ewallet</td>\n",
       "      <td>522.83</td>\n",
       "      <td>4.761905</td>\n",
       "      <td>26.1415</td>\n",
       "      <td>9.1</td>\n",
       "    </tr>\n",
       "    <tr>\n",
       "      <th>1</th>\n",
       "      <td>226-31-3081</td>\n",
       "      <td>C</td>\n",
       "      <td>Naypyitaw</td>\n",
       "      <td>Normal</td>\n",
       "      <td>Female</td>\n",
       "      <td>Electronic accessories</td>\n",
       "      <td>15.28</td>\n",
       "      <td>5</td>\n",
       "      <td>3.8200</td>\n",
       "      <td>80.2200</td>\n",
       "      <td>3/8/2019</td>\n",
       "      <td>10:29</td>\n",
       "      <td>Cash</td>\n",
       "      <td>76.40</td>\n",
       "      <td>4.761905</td>\n",
       "      <td>3.8200</td>\n",
       "      <td>9.6</td>\n",
       "    </tr>\n",
       "    <tr>\n",
       "      <th>2</th>\n",
       "      <td>631-41-3108</td>\n",
       "      <td>A</td>\n",
       "      <td>Yangon</td>\n",
       "      <td>Normal</td>\n",
       "      <td>Male</td>\n",
       "      <td>Home and lifestyle</td>\n",
       "      <td>46.33</td>\n",
       "      <td>7</td>\n",
       "      <td>16.2155</td>\n",
       "      <td>340.5255</td>\n",
       "      <td>3/3/2019</td>\n",
       "      <td>13:23</td>\n",
       "      <td>Credit card</td>\n",
       "      <td>324.31</td>\n",
       "      <td>4.761905</td>\n",
       "      <td>16.2155</td>\n",
       "      <td>7.4</td>\n",
       "    </tr>\n",
       "    <tr>\n",
       "      <th>3</th>\n",
       "      <td>123-19-1176</td>\n",
       "      <td>A</td>\n",
       "      <td>Yangon</td>\n",
       "      <td>Member</td>\n",
       "      <td>Male</td>\n",
       "      <td>Health and beauty</td>\n",
       "      <td>58.22</td>\n",
       "      <td>8</td>\n",
       "      <td>23.2880</td>\n",
       "      <td>489.0480</td>\n",
       "      <td>1/27/2019</td>\n",
       "      <td>20:33</td>\n",
       "      <td>Ewallet</td>\n",
       "      <td>465.76</td>\n",
       "      <td>4.761905</td>\n",
       "      <td>23.2880</td>\n",
       "      <td>8.4</td>\n",
       "    </tr>\n",
       "    <tr>\n",
       "      <th>4</th>\n",
       "      <td>373-73-7910</td>\n",
       "      <td>A</td>\n",
       "      <td>Yangon</td>\n",
       "      <td>Normal</td>\n",
       "      <td>Male</td>\n",
       "      <td>Sports and travel</td>\n",
       "      <td>86.31</td>\n",
       "      <td>7</td>\n",
       "      <td>30.2085</td>\n",
       "      <td>634.3785</td>\n",
       "      <td>2/8/2019</td>\n",
       "      <td>10:37</td>\n",
       "      <td>Ewallet</td>\n",
       "      <td>604.17</td>\n",
       "      <td>4.761905</td>\n",
       "      <td>30.2085</td>\n",
       "      <td>5.3</td>\n",
       "    </tr>\n",
       "  </tbody>\n",
       "</table>\n",
       "</div>"
      ],
      "text/plain": [
       "    Invoice ID Branch       City Customer type  Gender  \\\n",
       "0  750-67-8428      A     Yangon        Member  Female   \n",
       "1  226-31-3081      C  Naypyitaw        Normal  Female   \n",
       "2  631-41-3108      A     Yangon        Normal    Male   \n",
       "3  123-19-1176      A     Yangon        Member    Male   \n",
       "4  373-73-7910      A     Yangon        Normal    Male   \n",
       "\n",
       "             Product line  Unit price  Quantity   Tax 5%     Total       Date  \\\n",
       "0       Health and beauty       74.69         7  26.1415  548.9715   1/5/2019   \n",
       "1  Electronic accessories       15.28         5   3.8200   80.2200   3/8/2019   \n",
       "2      Home and lifestyle       46.33         7  16.2155  340.5255   3/3/2019   \n",
       "3       Health and beauty       58.22         8  23.2880  489.0480  1/27/2019   \n",
       "4       Sports and travel       86.31         7  30.2085  634.3785   2/8/2019   \n",
       "\n",
       "    Time      Payment    cogs  gross margin percentage  gross income  Rating  \n",
       "0  13:08      Ewallet  522.83                 4.761905       26.1415     9.1  \n",
       "1  10:29         Cash   76.40                 4.761905        3.8200     9.6  \n",
       "2  13:23  Credit card  324.31                 4.761905       16.2155     7.4  \n",
       "3  20:33      Ewallet  465.76                 4.761905       23.2880     8.4  \n",
       "4  10:37      Ewallet  604.17                 4.761905       30.2085     5.3  "
      ]
     },
     "execution_count": 3,
     "metadata": {},
     "output_type": "execute_result"
    }
   ],
   "source": [
    "df.head()"
   ]
  },
  {
   "cell_type": "markdown",
   "id": "73a41471bb3832ed",
   "metadata": {
    "collapsed": false
   },
   "source": [
    "## Correlation Analysis of Unit Price and Quantity"
   ]
  },
  {
   "cell_type": "code",
   "execution_count": 38,
   "id": "4a68e1874bb5f64f",
   "metadata": {
    "ExecuteTime": {
     "end_time": "2024-01-27T07:44:05.506303386Z",
     "start_time": "2024-01-27T07:44:05.451971351Z"
    },
    "collapsed": false
   },
   "outputs": [
    {
     "name": "stdout",
     "output_type": "stream",
     "text": [
      "0.010777564342497263\n"
     ]
    }
   ],
   "source": [
    "korelasi = pearsonr(df['Unit price'], df['Quantity'])\n",
    "print(korelasi.statistic)"
   ]
  },
  {
   "cell_type": "markdown",
   "id": "1bc16bbd192475ed",
   "metadata": {
    "collapsed": false
   },
   "source": [
    "## Correlation Analysis of Unit Price and Tax 5%"
   ]
  },
  {
   "cell_type": "code",
   "execution_count": 39,
   "id": "2dd0380c1a3b3b08",
   "metadata": {
    "ExecuteTime": {
     "end_time": "2024-01-27T07:44:11.178994290Z",
     "start_time": "2024-01-27T07:44:11.150827178Z"
    },
    "collapsed": false
   },
   "outputs": [
    {
     "name": "stdout",
     "output_type": "stream",
     "text": [
      "0.6339620885890691\n"
     ]
    }
   ],
   "source": [
    "korelasi = pearsonr(df['Unit price'], df['Tax 5%'])\n",
    "print(korelasi.statistic)"
   ]
  },
  {
   "cell_type": "markdown",
   "id": "65ce57c0cb187f60",
   "metadata": {
    "collapsed": false
   },
   "source": [
    "## Correlation Analysis of Unit Price and Total"
   ]
  },
  {
   "cell_type": "code",
   "execution_count": 40,
   "id": "3c3439c50622a87",
   "metadata": {
    "ExecuteTime": {
     "end_time": "2024-01-27T07:44:13.454868759Z",
     "start_time": "2024-01-27T07:44:13.402895164Z"
    },
    "collapsed": false
   },
   "outputs": [
    {
     "name": "stdout",
     "output_type": "stream",
     "text": [
      "0.6339620885890691\n"
     ]
    }
   ],
   "source": [
    "korelasi = pearsonr(df['Unit price'], df['Total'])\n",
    "print(korelasi.statistic)"
   ]
  },
  {
   "cell_type": "markdown",
   "id": "a1ade3fd4df12876",
   "metadata": {
    "collapsed": false
   },
   "source": [
    "## Correlation Analysis of Unit Price and COGS"
   ]
  },
  {
   "cell_type": "code",
   "execution_count": 41,
   "id": "571a9a353d47f70b",
   "metadata": {
    "ExecuteTime": {
     "end_time": "2024-01-27T07:44:16.766010427Z",
     "start_time": "2024-01-27T07:44:16.744919775Z"
    },
    "collapsed": false
   },
   "outputs": [
    {
     "name": "stdout",
     "output_type": "stream",
     "text": [
      "0.6339620885890691\n"
     ]
    }
   ],
   "source": [
    "korelasi = pearsonr(df['Unit price'], df['cogs'])\n",
    "print(korelasi.statistic)"
   ]
  },
  {
   "cell_type": "markdown",
   "id": "407100d617b5f48d",
   "metadata": {
    "collapsed": false
   },
   "source": [
    "## Correlation Analysis of Quantity and Tax 5%"
   ]
  },
  {
   "cell_type": "code",
   "execution_count": 42,
   "id": "245dec0009b0a7c8",
   "metadata": {
    "ExecuteTime": {
     "end_time": "2024-01-27T07:44:18.789137064Z",
     "start_time": "2024-01-27T07:44:18.765813740Z"
    },
    "collapsed": false
   },
   "outputs": [
    {
     "name": "stdout",
     "output_type": "stream",
     "text": [
      "0.7055101859433064\n"
     ]
    }
   ],
   "source": [
    "korelasi = pearsonr(df['Quantity'], df['Tax 5%'])\n",
    "print(korelasi.statistic)"
   ]
  },
  {
   "cell_type": "markdown",
   "id": "26fd69347dec64b0",
   "metadata": {
    "collapsed": false
   },
   "source": [
    "## Correlation Analysis of Quantity and Total"
   ]
  },
  {
   "cell_type": "code",
   "execution_count": 43,
   "id": "31bb5540fbaebba2",
   "metadata": {
    "ExecuteTime": {
     "end_time": "2024-01-27T07:44:20.792664695Z",
     "start_time": "2024-01-27T07:44:20.705782966Z"
    },
    "collapsed": false
   },
   "outputs": [
    {
     "name": "stdout",
     "output_type": "stream",
     "text": [
      "0.7055101859433064\n"
     ]
    }
   ],
   "source": [
    "korelasi = pearsonr(df['Quantity'], df['Total'])\n",
    "print(korelasi.statistic)"
   ]
  },
  {
   "cell_type": "markdown",
   "id": "f6ad4e528da6e728",
   "metadata": {
    "collapsed": false
   },
   "source": [
    "## Correlation Analysis of Quantity and COGS"
   ]
  },
  {
   "cell_type": "code",
   "execution_count": 44,
   "id": "a97bb56bbaf8412",
   "metadata": {
    "ExecuteTime": {
     "end_time": "2024-01-27T07:44:22.765732542Z",
     "start_time": "2024-01-27T07:44:22.743488336Z"
    },
    "collapsed": false
   },
   "outputs": [
    {
     "name": "stdout",
     "output_type": "stream",
     "text": [
      "0.7055101859433064\n"
     ]
    }
   ],
   "source": [
    "korelasi = pearsonr(df['Quantity'], df['cogs'])\n",
    "print(korelasi.statistic)"
   ]
  },
  {
   "cell_type": "markdown",
   "id": "3744fda8112cf4d7",
   "metadata": {
    "collapsed": false
   },
   "source": [
    "## Correlation Analysis of COGS and TAX"
   ]
  },
  {
   "cell_type": "code",
   "execution_count": 45,
   "id": "af94c00c75826ae8",
   "metadata": {
    "ExecuteTime": {
     "end_time": "2024-01-27T07:44:25.051166549Z",
     "start_time": "2024-01-27T07:44:25.009129355Z"
    },
    "collapsed": false
   },
   "outputs": [
    {
     "name": "stdout",
     "output_type": "stream",
     "text": [
      "0.9999999999999999\n"
     ]
    }
   ],
   "source": [
    "korelasi = pearsonr(df['cogs'], df['Tax 5%'])\n",
    "print(korelasi.statistic)"
   ]
  },
  {
   "cell_type": "markdown",
   "id": "6ed3a5125be3cc5c",
   "metadata": {
    "collapsed": false
   },
   "source": [
    "## Correlation Analysis of COGS and Total"
   ]
  },
  {
   "cell_type": "code",
   "execution_count": 46,
   "id": "3d1daf9773f05f28",
   "metadata": {
    "ExecuteTime": {
     "end_time": "2024-01-27T07:44:27.548351471Z",
     "start_time": "2024-01-27T07:44:27.527291370Z"
    },
    "collapsed": false
   },
   "outputs": [
    {
     "name": "stdout",
     "output_type": "stream",
     "text": [
      "1.0\n"
     ]
    }
   ],
   "source": [
    "korelasi = pearsonr(df['cogs'], df['Total'])\n",
    "print(korelasi.statistic)"
   ]
  },
  {
   "cell_type": "markdown",
   "id": "369f557af59475f1",
   "metadata": {
    "collapsed": false
   },
   "source": [
    "## Setelah dilakukan analisis korelasi antara variabel 'Unit price', 'Quantity', 'Tax 5%', dan 'Total' ditemukan bahwa:\n",
    "## 1. Variabel 'Unit price' dan 'Quantity' berkorelasi sangat lemah\n",
    "## 2. Variabel 'Unit price' dan 'Tax 5%' berkorelasi sedang (moderat)\n",
    "## 3. Variabel 'Unit price' dan 'Total' berkorelasi sedang (moderat)\n",
    "## 4. Variabel 'Unit price' dan 'COGS' berkorelasi sedang (moderat)\n",
    "## 5. Variabel 'Quantity' dan 'Tax 5%' berkorelasi kuat\n",
    "## 6. Variabel 'Quantity' dan 'Total' berkorelasi kuat\n",
    "## 7. Variabel 'Quantity' dan 'COGS' berkorelasi kuat\n",
    "## 8. Variabel 'COGS' dan 'TAX' berkorelasi sangat kuat\n",
    "## 9. Variabel 'COGS' dan 'Total' berkorelasi sangat kuat"
   ]
  },
  {
   "cell_type": "markdown",
   "id": "88556cd0096dc3ed",
   "metadata": {
    "collapsed": false
   },
   "source": [
    "## Untuk dimensi yang harus direduksi atau dihilangkan adalah dimensi 'gross margin percentage' dan 'gross income',\n",
    "## karena dimensi 'gross margin percentage' memiliki data yang sama di semua records\n",
    "## dan dimensi 'gross income' memiliki data yang sama dengan dimensi 'Tax 5%' (redundant).\n",
    "## sehingga dimensi 'gross income' dapat dihapus, karena sudah terwakilkan oleh dimensi 'Tax 5%'"
   ]
  },
  {
   "cell_type": "markdown",
   "id": "eae17908",
   "metadata": {},
   "source": [
    "## Classification Analysis for All Fields"
   ]
  },
  {
   "cell_type": "code",
   "execution_count": 4,
   "id": "bbd62764",
   "metadata": {},
   "outputs": [],
   "source": [
    "# Pilih fitur dan target\n",
    "features = df[['Unit price', 'Quantity', 'Tax 5%', 'cogs', 'gross margin percentage', 'gross income', 'Rating']]\n",
    "target = df['Payment']"
   ]
  },
  {
   "cell_type": "code",
   "execution_count": 5,
   "id": "ac4310c5",
   "metadata": {},
   "outputs": [],
   "source": [
    "# Bagi data menjadi data latih dan data uji\n",
    "features_train, features_test, target_train, target_test = train_test_split(features, target, test_size=0.2, random_state=42)"
   ]
  },
  {
   "cell_type": "code",
   "execution_count": 6,
   "id": "79d53be7",
   "metadata": {},
   "outputs": [],
   "source": [
    "# Inisialisasi model RandomForestClassifier\n",
    "model = RandomForestClassifier(n_estimators=100, random_state=42)"
   ]
  },
  {
   "cell_type": "code",
   "execution_count": 7,
   "id": "0fc028d8",
   "metadata": {},
   "outputs": [
    {
     "data": {
      "text/html": [
       "<style>#sk-container-id-1 {\n",
       "  /* Definition of color scheme common for light and dark mode */\n",
       "  --sklearn-color-text: black;\n",
       "  --sklearn-color-line: gray;\n",
       "  /* Definition of color scheme for unfitted estimators */\n",
       "  --sklearn-color-unfitted-level-0: #fff5e6;\n",
       "  --sklearn-color-unfitted-level-1: #f6e4d2;\n",
       "  --sklearn-color-unfitted-level-2: #ffe0b3;\n",
       "  --sklearn-color-unfitted-level-3: chocolate;\n",
       "  /* Definition of color scheme for fitted estimators */\n",
       "  --sklearn-color-fitted-level-0: #f0f8ff;\n",
       "  --sklearn-color-fitted-level-1: #d4ebff;\n",
       "  --sklearn-color-fitted-level-2: #b3dbfd;\n",
       "  --sklearn-color-fitted-level-3: cornflowerblue;\n",
       "\n",
       "  /* Specific color for light theme */\n",
       "  --sklearn-color-text-on-default-background: var(--sg-text-color, var(--theme-code-foreground, var(--jp-content-font-color1, black)));\n",
       "  --sklearn-color-background: var(--sg-background-color, var(--theme-background, var(--jp-layout-color0, white)));\n",
       "  --sklearn-color-border-box: var(--sg-text-color, var(--theme-code-foreground, var(--jp-content-font-color1, black)));\n",
       "  --sklearn-color-icon: #696969;\n",
       "\n",
       "  @media (prefers-color-scheme: dark) {\n",
       "    /* Redefinition of color scheme for dark theme */\n",
       "    --sklearn-color-text-on-default-background: var(--sg-text-color, var(--theme-code-foreground, var(--jp-content-font-color1, white)));\n",
       "    --sklearn-color-background: var(--sg-background-color, var(--theme-background, var(--jp-layout-color0, #111)));\n",
       "    --sklearn-color-border-box: var(--sg-text-color, var(--theme-code-foreground, var(--jp-content-font-color1, white)));\n",
       "    --sklearn-color-icon: #878787;\n",
       "  }\n",
       "}\n",
       "\n",
       "#sk-container-id-1 {\n",
       "  color: var(--sklearn-color-text);\n",
       "}\n",
       "\n",
       "#sk-container-id-1 pre {\n",
       "  padding: 0;\n",
       "}\n",
       "\n",
       "#sk-container-id-1 input.sk-hidden--visually {\n",
       "  border: 0;\n",
       "  clip: rect(1px 1px 1px 1px);\n",
       "  clip: rect(1px, 1px, 1px, 1px);\n",
       "  height: 1px;\n",
       "  margin: -1px;\n",
       "  overflow: hidden;\n",
       "  padding: 0;\n",
       "  position: absolute;\n",
       "  width: 1px;\n",
       "}\n",
       "\n",
       "#sk-container-id-1 div.sk-dashed-wrapped {\n",
       "  border: 1px dashed var(--sklearn-color-line);\n",
       "  margin: 0 0.4em 0.5em 0.4em;\n",
       "  box-sizing: border-box;\n",
       "  padding-bottom: 0.4em;\n",
       "  background-color: var(--sklearn-color-background);\n",
       "}\n",
       "\n",
       "#sk-container-id-1 div.sk-container {\n",
       "  /* jupyter's `normalize.less` sets `[hidden] { display: none; }`\n",
       "     but bootstrap.min.css set `[hidden] { display: none !important; }`\n",
       "     so we also need the `!important` here to be able to override the\n",
       "     default hidden behavior on the sphinx rendered scikit-learn.org.\n",
       "     See: https://github.com/scikit-learn/scikit-learn/issues/21755 */\n",
       "  display: inline-block !important;\n",
       "  position: relative;\n",
       "}\n",
       "\n",
       "#sk-container-id-1 div.sk-text-repr-fallback {\n",
       "  display: none;\n",
       "}\n",
       "\n",
       "div.sk-parallel-item,\n",
       "div.sk-serial,\n",
       "div.sk-item {\n",
       "  /* draw centered vertical line to link estimators */\n",
       "  background-image: linear-gradient(var(--sklearn-color-text-on-default-background), var(--sklearn-color-text-on-default-background));\n",
       "  background-size: 2px 100%;\n",
       "  background-repeat: no-repeat;\n",
       "  background-position: center center;\n",
       "}\n",
       "\n",
       "/* Parallel-specific style estimator block */\n",
       "\n",
       "#sk-container-id-1 div.sk-parallel-item::after {\n",
       "  content: \"\";\n",
       "  width: 100%;\n",
       "  border-bottom: 2px solid var(--sklearn-color-text-on-default-background);\n",
       "  flex-grow: 1;\n",
       "}\n",
       "\n",
       "#sk-container-id-1 div.sk-parallel {\n",
       "  display: flex;\n",
       "  align-items: stretch;\n",
       "  justify-content: center;\n",
       "  background-color: var(--sklearn-color-background);\n",
       "  position: relative;\n",
       "}\n",
       "\n",
       "#sk-container-id-1 div.sk-parallel-item {\n",
       "  display: flex;\n",
       "  flex-direction: column;\n",
       "}\n",
       "\n",
       "#sk-container-id-1 div.sk-parallel-item:first-child::after {\n",
       "  align-self: flex-end;\n",
       "  width: 50%;\n",
       "}\n",
       "\n",
       "#sk-container-id-1 div.sk-parallel-item:last-child::after {\n",
       "  align-self: flex-start;\n",
       "  width: 50%;\n",
       "}\n",
       "\n",
       "#sk-container-id-1 div.sk-parallel-item:only-child::after {\n",
       "  width: 0;\n",
       "}\n",
       "\n",
       "/* Serial-specific style estimator block */\n",
       "\n",
       "#sk-container-id-1 div.sk-serial {\n",
       "  display: flex;\n",
       "  flex-direction: column;\n",
       "  align-items: center;\n",
       "  background-color: var(--sklearn-color-background);\n",
       "  padding-right: 1em;\n",
       "  padding-left: 1em;\n",
       "}\n",
       "\n",
       "\n",
       "/* Toggleable style: style used for estimator/Pipeline/ColumnTransformer box that is\n",
       "clickable and can be expanded/collapsed.\n",
       "- Pipeline and ColumnTransformer use this feature and define the default style\n",
       "- Estimators will overwrite some part of the style using the `sk-estimator` class\n",
       "*/\n",
       "\n",
       "/* Pipeline and ColumnTransformer style (default) */\n",
       "\n",
       "#sk-container-id-1 div.sk-toggleable {\n",
       "  /* Default theme specific background. It is overwritten whether we have a\n",
       "  specific estimator or a Pipeline/ColumnTransformer */\n",
       "  background-color: var(--sklearn-color-background);\n",
       "}\n",
       "\n",
       "/* Toggleable label */\n",
       "#sk-container-id-1 label.sk-toggleable__label {\n",
       "  cursor: pointer;\n",
       "  display: block;\n",
       "  width: 100%;\n",
       "  margin-bottom: 0;\n",
       "  padding: 0.5em;\n",
       "  box-sizing: border-box;\n",
       "  text-align: center;\n",
       "}\n",
       "\n",
       "#sk-container-id-1 label.sk-toggleable__label-arrow:before {\n",
       "  /* Arrow on the left of the label */\n",
       "  content: \"▸\";\n",
       "  float: left;\n",
       "  margin-right: 0.25em;\n",
       "  color: var(--sklearn-color-icon);\n",
       "}\n",
       "\n",
       "#sk-container-id-1 label.sk-toggleable__label-arrow:hover:before {\n",
       "  color: var(--sklearn-color-text);\n",
       "}\n",
       "\n",
       "/* Toggleable content - dropdown */\n",
       "\n",
       "#sk-container-id-1 div.sk-toggleable__content {\n",
       "  max-height: 0;\n",
       "  max-width: 0;\n",
       "  overflow: hidden;\n",
       "  text-align: left;\n",
       "  /* unfitted */\n",
       "  background-color: var(--sklearn-color-unfitted-level-0);\n",
       "}\n",
       "\n",
       "#sk-container-id-1 div.sk-toggleable__content.fitted {\n",
       "  /* fitted */\n",
       "  background-color: var(--sklearn-color-fitted-level-0);\n",
       "}\n",
       "\n",
       "#sk-container-id-1 div.sk-toggleable__content pre {\n",
       "  margin: 0.2em;\n",
       "  border-radius: 0.25em;\n",
       "  color: var(--sklearn-color-text);\n",
       "  /* unfitted */\n",
       "  background-color: var(--sklearn-color-unfitted-level-0);\n",
       "}\n",
       "\n",
       "#sk-container-id-1 div.sk-toggleable__content.fitted pre {\n",
       "  /* unfitted */\n",
       "  background-color: var(--sklearn-color-fitted-level-0);\n",
       "}\n",
       "\n",
       "#sk-container-id-1 input.sk-toggleable__control:checked~div.sk-toggleable__content {\n",
       "  /* Expand drop-down */\n",
       "  max-height: 200px;\n",
       "  max-width: 100%;\n",
       "  overflow: auto;\n",
       "}\n",
       "\n",
       "#sk-container-id-1 input.sk-toggleable__control:checked~label.sk-toggleable__label-arrow:before {\n",
       "  content: \"▾\";\n",
       "}\n",
       "\n",
       "/* Pipeline/ColumnTransformer-specific style */\n",
       "\n",
       "#sk-container-id-1 div.sk-label input.sk-toggleable__control:checked~label.sk-toggleable__label {\n",
       "  color: var(--sklearn-color-text);\n",
       "  background-color: var(--sklearn-color-unfitted-level-2);\n",
       "}\n",
       "\n",
       "#sk-container-id-1 div.sk-label.fitted input.sk-toggleable__control:checked~label.sk-toggleable__label {\n",
       "  background-color: var(--sklearn-color-fitted-level-2);\n",
       "}\n",
       "\n",
       "/* Estimator-specific style */\n",
       "\n",
       "/* Colorize estimator box */\n",
       "#sk-container-id-1 div.sk-estimator input.sk-toggleable__control:checked~label.sk-toggleable__label {\n",
       "  /* unfitted */\n",
       "  background-color: var(--sklearn-color-unfitted-level-2);\n",
       "}\n",
       "\n",
       "#sk-container-id-1 div.sk-estimator.fitted input.sk-toggleable__control:checked~label.sk-toggleable__label {\n",
       "  /* fitted */\n",
       "  background-color: var(--sklearn-color-fitted-level-2);\n",
       "}\n",
       "\n",
       "#sk-container-id-1 div.sk-label label.sk-toggleable__label,\n",
       "#sk-container-id-1 div.sk-label label {\n",
       "  /* The background is the default theme color */\n",
       "  color: var(--sklearn-color-text-on-default-background);\n",
       "}\n",
       "\n",
       "/* On hover, darken the color of the background */\n",
       "#sk-container-id-1 div.sk-label:hover label.sk-toggleable__label {\n",
       "  color: var(--sklearn-color-text);\n",
       "  background-color: var(--sklearn-color-unfitted-level-2);\n",
       "}\n",
       "\n",
       "/* Label box, darken color on hover, fitted */\n",
       "#sk-container-id-1 div.sk-label.fitted:hover label.sk-toggleable__label.fitted {\n",
       "  color: var(--sklearn-color-text);\n",
       "  background-color: var(--sklearn-color-fitted-level-2);\n",
       "}\n",
       "\n",
       "/* Estimator label */\n",
       "\n",
       "#sk-container-id-1 div.sk-label label {\n",
       "  font-family: monospace;\n",
       "  font-weight: bold;\n",
       "  display: inline-block;\n",
       "  line-height: 1.2em;\n",
       "}\n",
       "\n",
       "#sk-container-id-1 div.sk-label-container {\n",
       "  text-align: center;\n",
       "}\n",
       "\n",
       "/* Estimator-specific */\n",
       "#sk-container-id-1 div.sk-estimator {\n",
       "  font-family: monospace;\n",
       "  border: 1px dotted var(--sklearn-color-border-box);\n",
       "  border-radius: 0.25em;\n",
       "  box-sizing: border-box;\n",
       "  margin-bottom: 0.5em;\n",
       "  /* unfitted */\n",
       "  background-color: var(--sklearn-color-unfitted-level-0);\n",
       "}\n",
       "\n",
       "#sk-container-id-1 div.sk-estimator.fitted {\n",
       "  /* fitted */\n",
       "  background-color: var(--sklearn-color-fitted-level-0);\n",
       "}\n",
       "\n",
       "/* on hover */\n",
       "#sk-container-id-1 div.sk-estimator:hover {\n",
       "  /* unfitted */\n",
       "  background-color: var(--sklearn-color-unfitted-level-2);\n",
       "}\n",
       "\n",
       "#sk-container-id-1 div.sk-estimator.fitted:hover {\n",
       "  /* fitted */\n",
       "  background-color: var(--sklearn-color-fitted-level-2);\n",
       "}\n",
       "\n",
       "/* Specification for estimator info (e.g. \"i\" and \"?\") */\n",
       "\n",
       "/* Common style for \"i\" and \"?\" */\n",
       "\n",
       ".sk-estimator-doc-link,\n",
       "a:link.sk-estimator-doc-link,\n",
       "a:visited.sk-estimator-doc-link {\n",
       "  float: right;\n",
       "  font-size: smaller;\n",
       "  line-height: 1em;\n",
       "  font-family: monospace;\n",
       "  background-color: var(--sklearn-color-background);\n",
       "  border-radius: 1em;\n",
       "  height: 1em;\n",
       "  width: 1em;\n",
       "  text-decoration: none !important;\n",
       "  margin-left: 1ex;\n",
       "  /* unfitted */\n",
       "  border: var(--sklearn-color-unfitted-level-1) 1pt solid;\n",
       "  color: var(--sklearn-color-unfitted-level-1);\n",
       "}\n",
       "\n",
       ".sk-estimator-doc-link.fitted,\n",
       "a:link.sk-estimator-doc-link.fitted,\n",
       "a:visited.sk-estimator-doc-link.fitted {\n",
       "  /* fitted */\n",
       "  border: var(--sklearn-color-fitted-level-1) 1pt solid;\n",
       "  color: var(--sklearn-color-fitted-level-1);\n",
       "}\n",
       "\n",
       "/* On hover */\n",
       "div.sk-estimator:hover .sk-estimator-doc-link:hover,\n",
       ".sk-estimator-doc-link:hover,\n",
       "div.sk-label-container:hover .sk-estimator-doc-link:hover,\n",
       ".sk-estimator-doc-link:hover {\n",
       "  /* unfitted */\n",
       "  background-color: var(--sklearn-color-unfitted-level-3);\n",
       "  color: var(--sklearn-color-background);\n",
       "  text-decoration: none;\n",
       "}\n",
       "\n",
       "div.sk-estimator.fitted:hover .sk-estimator-doc-link.fitted:hover,\n",
       ".sk-estimator-doc-link.fitted:hover,\n",
       "div.sk-label-container:hover .sk-estimator-doc-link.fitted:hover,\n",
       ".sk-estimator-doc-link.fitted:hover {\n",
       "  /* fitted */\n",
       "  background-color: var(--sklearn-color-fitted-level-3);\n",
       "  color: var(--sklearn-color-background);\n",
       "  text-decoration: none;\n",
       "}\n",
       "\n",
       "/* Span, style for the box shown on hovering the info icon */\n",
       ".sk-estimator-doc-link span {\n",
       "  display: none;\n",
       "  z-index: 9999;\n",
       "  position: relative;\n",
       "  font-weight: normal;\n",
       "  right: .2ex;\n",
       "  padding: .5ex;\n",
       "  margin: .5ex;\n",
       "  width: min-content;\n",
       "  min-width: 20ex;\n",
       "  max-width: 50ex;\n",
       "  color: var(--sklearn-color-text);\n",
       "  box-shadow: 2pt 2pt 4pt #999;\n",
       "  /* unfitted */\n",
       "  background: var(--sklearn-color-unfitted-level-0);\n",
       "  border: .5pt solid var(--sklearn-color-unfitted-level-3);\n",
       "}\n",
       "\n",
       ".sk-estimator-doc-link.fitted span {\n",
       "  /* fitted */\n",
       "  background: var(--sklearn-color-fitted-level-0);\n",
       "  border: var(--sklearn-color-fitted-level-3);\n",
       "}\n",
       "\n",
       ".sk-estimator-doc-link:hover span {\n",
       "  display: block;\n",
       "}\n",
       "\n",
       "/* \"?\"-specific style due to the `<a>` HTML tag */\n",
       "\n",
       "#sk-container-id-1 a.estimator_doc_link {\n",
       "  float: right;\n",
       "  font-size: 1rem;\n",
       "  line-height: 1em;\n",
       "  font-family: monospace;\n",
       "  background-color: var(--sklearn-color-background);\n",
       "  border-radius: 1rem;\n",
       "  height: 1rem;\n",
       "  width: 1rem;\n",
       "  text-decoration: none;\n",
       "  /* unfitted */\n",
       "  color: var(--sklearn-color-unfitted-level-1);\n",
       "  border: var(--sklearn-color-unfitted-level-1) 1pt solid;\n",
       "}\n",
       "\n",
       "#sk-container-id-1 a.estimator_doc_link.fitted {\n",
       "  /* fitted */\n",
       "  border: var(--sklearn-color-fitted-level-1) 1pt solid;\n",
       "  color: var(--sklearn-color-fitted-level-1);\n",
       "}\n",
       "\n",
       "/* On hover */\n",
       "#sk-container-id-1 a.estimator_doc_link:hover {\n",
       "  /* unfitted */\n",
       "  background-color: var(--sklearn-color-unfitted-level-3);\n",
       "  color: var(--sklearn-color-background);\n",
       "  text-decoration: none;\n",
       "}\n",
       "\n",
       "#sk-container-id-1 a.estimator_doc_link.fitted:hover {\n",
       "  /* fitted */\n",
       "  background-color: var(--sklearn-color-fitted-level-3);\n",
       "}\n",
       "</style><div id=\"sk-container-id-1\" class=\"sk-top-container\"><div class=\"sk-text-repr-fallback\"><pre>RandomForestClassifier(random_state=42)</pre><b>In a Jupyter environment, please rerun this cell to show the HTML representation or trust the notebook. <br />On GitHub, the HTML representation is unable to render, please try loading this page with nbviewer.org.</b></div><div class=\"sk-container\" hidden><div class=\"sk-item\"><div class=\"sk-estimator fitted sk-toggleable\"><input class=\"sk-toggleable__control sk-hidden--visually\" id=\"sk-estimator-id-1\" type=\"checkbox\" checked><label for=\"sk-estimator-id-1\" class=\"sk-toggleable__label fitted sk-toggleable__label-arrow fitted\">&nbsp;&nbsp;RandomForestClassifier<a class=\"sk-estimator-doc-link fitted\" rel=\"noreferrer\" target=\"_blank\" href=\"https://scikit-learn.org/1.4/modules/generated/sklearn.ensemble.RandomForestClassifier.html\">?<span>Documentation for RandomForestClassifier</span></a><span class=\"sk-estimator-doc-link fitted\">i<span>Fitted</span></span></label><div class=\"sk-toggleable__content fitted\"><pre>RandomForestClassifier(random_state=42)</pre></div> </div></div></div></div>"
      ],
      "text/plain": [
       "RandomForestClassifier(random_state=42)"
      ]
     },
     "execution_count": 7,
     "metadata": {},
     "output_type": "execute_result"
    }
   ],
   "source": [
    "# Latih model\n",
    "model.fit(features_train, target_train)"
   ]
  },
  {
   "cell_type": "code",
   "execution_count": 8,
   "id": "993b2eb9",
   "metadata": {},
   "outputs": [],
   "source": [
    "# Prediksi target data uji\n",
    "target_pred = model.predict(features_test)"
   ]
  },
  {
   "cell_type": "code",
   "execution_count": 9,
   "id": "22d06264",
   "metadata": {},
   "outputs": [
    {
     "name": "stdout",
     "output_type": "stream",
     "text": [
      "Akurasi model: 32.5%\n"
     ]
    }
   ],
   "source": [
    "# Hitung akurasi\n",
    "accuracy = accuracy_score(target_test, target_pred)\n",
    "\n",
    "print(f'Akurasi model: {accuracy * 100}%')"
   ]
  },
  {
   "cell_type": "code",
   "execution_count": 10,
   "id": "5caa7f67",
   "metadata": {},
   "outputs": [
    {
     "data": {
      "image/png": "[encoded data removed]",
      "text/plain": [
       "<Figure size 800x600 with 1 Axes>"
      ]
     },
     "metadata": {},
     "output_type": "display_data"
    },
    {
     "data": {
      "image/png": "[encoded data removed]",
      "text/plain": [
       "<Figure size 800x600 with 1 Axes>"
      ]
     },
     "metadata": {},
     "output_type": "display_data"
    }
   ],
   "source": [
    "# Confusion matrix\n",
    "conf_matrix = confusion_matrix(target_test, target_pred)\n",
    "\n",
    "# Plot distribusi target\n",
    "plt.figure(figsize=(8, 6))\n",
    "sns.countplot(x=target_test, hue=target_pred)\n",
    "plt.title('Distribusi Target (Actual vs Predicted)')\n",
    "plt.xlabel('Payment')\n",
    "plt.ylabel('Count')\n",
    "plt.legend(title='Prediction')\n",
    "plt.show()\n",
    "\n",
    "# Plot confusion matrix\n",
    "plt.figure(figsize=(8, 6))\n",
    "sns.heatmap(conf_matrix, annot=True, fmt='d', cmap='Blues', cbar=False)\n",
    "plt.title('Confusion Matrix')\n",
    "plt.xlabel('Predicted')\n",
    "plt.ylabel('Actual')\n",
    "plt.show()"
   ]
  },
  {
   "cell_type": "markdown",
   "id": "84c4e27de0b667f3",
   "metadata": {
    "collapsed": false
   },
   "source": [
    "## Remove The 'gross margin percentage' Dimension"
   ]
  },
  {
   "cell_type": "code",
   "execution_count": 64,
   "id": "4fb43bf3ece28219",
   "metadata": {
    "ExecuteTime": {
     "end_time": "2024-01-27T08:24:39.298501546Z",
     "start_time": "2024-01-27T08:24:39.281952292Z"
    },
    "collapsed": false
   },
   "outputs": [],
   "source": [
    "df = df.drop(columns=['gross margin percentage'])\n",
    "df = df.drop(columns=['gross income'])"
   ]
  },
  {
   "cell_type": "code",
   "execution_count": 65,
   "id": "a9370704166bca59",
   "metadata": {
    "ExecuteTime": {
     "end_time": "2024-01-27T08:24:41.363778055Z",
     "start_time": "2024-01-27T08:24:41.309487304Z"
    },
    "collapsed": false
   },
   "outputs": [
    {
     "data": {
      "text/html": [
       "<div>\n",
       "<style scoped>\n",
       "    .dataframe tbody tr th:only-of-type {\n",
       "        vertical-align: middle;\n",
       "    }\n",
       "\n",
       "    .dataframe tbody tr th {\n",
       "        vertical-align: top;\n",
       "    }\n",
       "\n",
       "    .dataframe thead th {\n",
       "        text-align: right;\n",
       "    }\n",
       "</style>\n",
       "<table border=\"1\" class=\"dataframe\">\n",
       "  <thead>\n",
       "    <tr style=\"text-align: right;\">\n",
       "      <th></th>\n",
       "      <th>Invoice ID</th>\n",
       "      <th>Branch</th>\n",
       "      <th>City</th>\n",
       "      <th>Customer type</th>\n",
       "      <th>Gender</th>\n",
       "      <th>Product line</th>\n",
       "      <th>Unit price</th>\n",
       "      <th>Quantity</th>\n",
       "      <th>Tax 5%</th>\n",
       "      <th>Total</th>\n",
       "      <th>Date</th>\n",
       "      <th>Time</th>\n",
       "      <th>Payment</th>\n",
       "      <th>cogs</th>\n",
       "      <th>Rating</th>\n",
       "    </tr>\n",
       "  </thead>\n",
       "  <tbody>\n",
       "    <tr>\n",
       "      <th>0</th>\n",
       "      <td>750-67-8428</td>\n",
       "      <td>A</td>\n",
       "      <td>Yangon</td>\n",
       "      <td>Member</td>\n",
       "      <td>Female</td>\n",
       "      <td>Health and beauty</td>\n",
       "      <td>74.69</td>\n",
       "      <td>7</td>\n",
       "      <td>26.1415</td>\n",
       "      <td>548.9715</td>\n",
       "      <td>1/5/2019</td>\n",
       "      <td>13:08</td>\n",
       "      <td>Ewallet</td>\n",
       "      <td>522.83</td>\n",
       "      <td>9.1</td>\n",
       "    </tr>\n",
       "    <tr>\n",
       "      <th>1</th>\n",
       "      <td>226-31-3081</td>\n",
       "      <td>C</td>\n",
       "      <td>Naypyitaw</td>\n",
       "      <td>Normal</td>\n",
       "      <td>Female</td>\n",
       "      <td>Electronic accessories</td>\n",
       "      <td>15.28</td>\n",
       "      <td>5</td>\n",
       "      <td>3.8200</td>\n",
       "      <td>80.2200</td>\n",
       "      <td>3/8/2019</td>\n",
       "      <td>10:29</td>\n",
       "      <td>Cash</td>\n",
       "      <td>76.40</td>\n",
       "      <td>9.6</td>\n",
       "    </tr>\n",
       "    <tr>\n",
       "      <th>2</th>\n",
       "      <td>631-41-3108</td>\n",
       "      <td>A</td>\n",
       "      <td>Yangon</td>\n",
       "      <td>Normal</td>\n",
       "      <td>Male</td>\n",
       "      <td>Home and lifestyle</td>\n",
       "      <td>46.33</td>\n",
       "      <td>7</td>\n",
       "      <td>16.2155</td>\n",
       "      <td>340.5255</td>\n",
       "      <td>3/3/2019</td>\n",
       "      <td>13:23</td>\n",
       "      <td>Credit card</td>\n",
       "      <td>324.31</td>\n",
       "      <td>7.4</td>\n",
       "    </tr>\n",
       "    <tr>\n",
       "      <th>3</th>\n",
       "      <td>123-19-1176</td>\n",
       "      <td>A</td>\n",
       "      <td>Yangon</td>\n",
       "      <td>Member</td>\n",
       "      <td>Male</td>\n",
       "      <td>Health and beauty</td>\n",
       "      <td>58.22</td>\n",
       "      <td>8</td>\n",
       "      <td>23.2880</td>\n",
       "      <td>489.0480</td>\n",
       "      <td>1/27/2019</td>\n",
       "      <td>20:33</td>\n",
       "      <td>Ewallet</td>\n",
       "      <td>465.76</td>\n",
       "      <td>8.4</td>\n",
       "    </tr>\n",
       "    <tr>\n",
       "      <th>4</th>\n",
       "      <td>373-73-7910</td>\n",
       "      <td>A</td>\n",
       "      <td>Yangon</td>\n",
       "      <td>Normal</td>\n",
       "      <td>Male</td>\n",
       "      <td>Sports and travel</td>\n",
       "      <td>86.31</td>\n",
       "      <td>7</td>\n",
       "      <td>30.2085</td>\n",
       "      <td>634.3785</td>\n",
       "      <td>2/8/2019</td>\n",
       "      <td>10:37</td>\n",
       "      <td>Ewallet</td>\n",
       "      <td>604.17</td>\n",
       "      <td>5.3</td>\n",
       "    </tr>\n",
       "  </tbody>\n",
       "</table>\n",
       "</div>"
      ],
      "text/plain": [
       "    Invoice ID Branch       City Customer type  Gender  \\\n",
       "0  750-67-8428      A     Yangon        Member  Female   \n",
       "1  226-31-3081      C  Naypyitaw        Normal  Female   \n",
       "2  631-41-3108      A     Yangon        Normal    Male   \n",
       "3  123-19-1176      A     Yangon        Member    Male   \n",
       "4  373-73-7910      A     Yangon        Normal    Male   \n",
       "\n",
       "             Product line  Unit price  Quantity   Tax 5%     Total       Date  \\\n",
       "0       Health and beauty       74.69         7  26.1415  548.9715   1/5/2019   \n",
       "1  Electronic accessories       15.28         5   3.8200   80.2200   3/8/2019   \n",
       "2      Home and lifestyle       46.33         7  16.2155  340.5255   3/3/2019   \n",
       "3       Health and beauty       58.22         8  23.2880  489.0480  1/27/2019   \n",
       "4       Sports and travel       86.31         7  30.2085  634.3785   2/8/2019   \n",
       "\n",
       "    Time      Payment    cogs  Rating  \n",
       "0  13:08      Ewallet  522.83     9.1  \n",
       "1  10:29         Cash   76.40     9.6  \n",
       "2  13:23  Credit card  324.31     7.4  \n",
       "3  20:33      Ewallet  465.76     8.4  \n",
       "4  10:37      Ewallet  604.17     5.3  "
      ]
     },
     "execution_count": 65,
     "metadata": {},
     "output_type": "execute_result"
    }
   ],
   "source": [
    "df.head()"
   ]
  },
  {
   "cell_type": "markdown",
   "id": "df3924918c39a4a9",
   "metadata": {
    "collapsed": false
   },
   "source": [
    "#  Unit Price (Mean, Median, Modus)"
   ]
  },
  {
   "cell_type": "code",
   "execution_count": 49,
   "id": "92c6cc12fbdcd0f4",
   "metadata": {
    "ExecuteTime": {
     "end_time": "2024-01-27T07:46:54.335995139Z",
     "start_time": "2024-01-27T07:46:54.326666364Z"
    },
    "collapsed": false
   },
   "outputs": [
    {
     "name": "stdout",
     "output_type": "stream",
     "text": [
      "Unit Price Mean: 55.67213\n",
      "Unit Price Median: 55.230000000000004\n",
      "Unit Price Modus: 83.77\n"
     ]
    }
   ],
   "source": [
    "unit_price_mean = np.mean(df['Unit price'])\n",
    "unit_price_median = np.median(df['Unit price'])\n",
    "unit_price_modus = mode(df['Unit price'])\n",
    "\n",
    "print(f'Unit Price Mean: {unit_price_mean}')\n",
    "print(f'Unit Price Median: {unit_price_median}')\n",
    "print(f'Unit Price Modus: {unit_price_modus.mode}')"
   ]
  },
  {
   "cell_type": "code",
   "execution_count": 50,
   "id": "d3fb9431a9c399ab",
   "metadata": {
    "ExecuteTime": {
     "end_time": "2024-01-27T07:46:57.105206202Z",
     "start_time": "2024-01-27T07:46:56.527006001Z"
    },
    "collapsed": false
   },
   "outputs": [
    {
     "data": {
      "image/png": "[encoded data removed]",
      "text/plain": [
       "<Figure size 1000x700 with 1 Axes>"
      ]
     },
     "metadata": {},
     "output_type": "display_data"
    }
   ],
   "source": [
    "# Visualisasi\n",
    "plt.figure(figsize=(10, 7))\n",
    "\n",
    "# Histogram\n",
    "sns.histplot(df['Unit price'], color='skyblue', label='Unit Price Distribution')\n",
    "\n",
    "# Garis vertikal untuk mean, median, dan modus\n",
    "plt.axvline(unit_price_mean, color='red', linestyle='dashed', linewidth=2, label='Mean')\n",
    "plt.axvline(unit_price_median, color='green', linestyle='dashed', linewidth=2, label='Median')\n",
    "\n",
    "# Menambahkan label dan legenda\n",
    "plt.xlabel('Unit Price')\n",
    "plt.ylabel('')\n",
    "plt.legend()\n",
    "\n",
    "# Menampilkan plot\n",
    "plt.show()"
   ]
  },
  {
   "cell_type": "markdown",
   "id": "4ad36041852e027d",
   "metadata": {
    "collapsed": false
   },
   "source": [
    "# Quantity (Mean, Median, Modus)"
   ]
  },
  {
   "cell_type": "code",
   "execution_count": 51,
   "id": "14f82b37cce7449c",
   "metadata": {
    "ExecuteTime": {
     "end_time": "2024-01-27T07:47:00.388757277Z",
     "start_time": "2024-01-27T07:47:00.358758757Z"
    },
    "collapsed": false
   },
   "outputs": [
    {
     "name": "stdout",
     "output_type": "stream",
     "text": [
      "Quantity Mean: 5.51\n",
      "Quantity Median: 5.0\n",
      "Quantity Modus: 10\n"
     ]
    }
   ],
   "source": [
    "quantity_mean = np.mean(df['Quantity'])\n",
    "quantity_median = np.median(df['Quantity'])\n",
    "quantity_modus = mode(df['Quantity'])\n",
    "\n",
    "print(f'Quantity Mean: {quantity_mean}')\n",
    "print(f'Quantity Median: {quantity_median}')\n",
    "print(f'Quantity Modus: {quantity_modus.mode}')"
   ]
  },
  {
   "cell_type": "code",
   "execution_count": 52,
   "id": "4faa44edba7f109a",
   "metadata": {
    "ExecuteTime": {
     "end_time": "2024-01-27T07:47:04.589164197Z",
     "start_time": "2024-01-27T07:47:02.864286453Z"
    },
    "collapsed": false
   },
   "outputs": [
    {
     "data": {
      "image/png": "[encoded data removed]",
      "text/plain": [
       "<Figure size 1000x700 with 1 Axes>"
      ]
     },
     "metadata": {},
     "output_type": "display_data"
    }
   ],
   "source": [
    "# Visualisasi\n",
    "plt.figure(figsize=(10, 7))\n",
    "\n",
    "# Histogram\n",
    "sns.histplot(df['Quantity'], color='skyblue', label='Quantity Distribution')\n",
    "\n",
    "# Garis vertikal untuk mean, median, dan modus\n",
    "plt.axvline(quantity_mean, color='red', linestyle='dashed', linewidth=2, label='Mean')\n",
    "plt.axvline(quantity_median, color='green', linestyle='dashed', linewidth=2, label='Median')\n",
    "\n",
    "# Menambahkan label dan legenda\n",
    "plt.xlabel('Quantity')\n",
    "plt.ylabel('')\n",
    "plt.legend()\n",
    "\n",
    "# Menampilkan plot\n",
    "plt.show()"
   ]
  },
  {
   "cell_type": "markdown",
   "id": "737adada83d7214c",
   "metadata": {
    "collapsed": false
   },
   "source": [
    "# Tax 5% (Mean, Median, Modus)"
   ]
  },
  {
   "cell_type": "code",
   "execution_count": 55,
   "id": "6b2c3c13bae7b807",
   "metadata": {
    "ExecuteTime": {
     "end_time": "2024-01-27T07:50:41.129546743Z",
     "start_time": "2024-01-27T07:50:41.100136026Z"
    },
    "collapsed": false
   },
   "outputs": [
    {
     "name": "stdout",
     "output_type": "stream",
     "text": [
      "Tax 5% Mean: 15.379368999999999\n",
      "Tax 5% Median: 12.088000000000001\n",
      "Tax 5% Modus: 4.154\n"
     ]
    }
   ],
   "source": [
    "tax_mean = np.mean(df['Tax 5%'])\n",
    "tax_median = np.median(df['Tax 5%'])\n",
    "tax_modus = mode(df['Tax 5%'])\n",
    "\n",
    "print(f'Tax 5% Mean: {tax_mean}')\n",
    "print(f'Tax 5% Median: {tax_median}')\n",
    "print(f'Tax 5% Modus: {tax_modus.mode}')"
   ]
  },
  {
   "cell_type": "code",
   "execution_count": 56,
   "id": "e7aeec8716e48d58",
   "metadata": {
    "ExecuteTime": {
     "end_time": "2024-01-27T07:51:12.907655790Z",
     "start_time": "2024-01-27T07:51:12.494044225Z"
    },
    "collapsed": false
   },
   "outputs": [
    {
     "data": {
      "image/png": "[encoded data removed]",
      "text/plain": [
       "<Figure size 1000x700 with 1 Axes>"
      ]
     },
     "metadata": {},
     "output_type": "display_data"
    }
   ],
   "source": [
    "# Visualisasi\n",
    "plt.figure(figsize=(10, 7))\n",
    "\n",
    "# Histogram\n",
    "sns.histplot(df['Tax 5%'], color='skyblue', label='Tax 5% Distribution')\n",
    "\n",
    "# Garis vertikal untuk mean, median, dan modus\n",
    "plt.axvline(tax_mean, color='red', linestyle='dashed', linewidth=2, label='Mean')\n",
    "plt.axvline(tax_median, color='green', linestyle='dashed', linewidth=2, label='Median')\n",
    "\n",
    "# Menambahkan label dan legenda\n",
    "plt.xlabel('Tax 5%')\n",
    "plt.ylabel('')\n",
    "plt.legend()\n",
    "\n",
    "# Menampilkan plot\n",
    "plt.show()"
   ]
  },
  {
   "cell_type": "markdown",
   "id": "d9965f79f5caf4b1",
   "metadata": {
    "collapsed": false
   },
   "source": [
    "# Total (Mean, Median, Modus)"
   ]
  },
  {
   "cell_type": "code",
   "execution_count": 57,
   "id": "8ca57549915205b3",
   "metadata": {
    "ExecuteTime": {
     "end_time": "2024-01-27T07:55:20.986836520Z",
     "start_time": "2024-01-27T07:55:20.974544420Z"
    },
    "collapsed": false
   },
   "outputs": [
    {
     "name": "stdout",
     "output_type": "stream",
     "text": [
      "Total Mean: 322.966749\n",
      "Total Median: 253.848\n",
      "Total Modus: 87.234\n"
     ]
    }
   ],
   "source": [
    "total_mean = np.mean(df['Total'])\n",
    "total_median = np.median(df['Total'])\n",
    "total_modus = mode(df['Total'])\n",
    "\n",
    "print(f'Total Mean: {total_mean}')\n",
    "print(f'Total Median: {total_median}')\n",
    "print(f'Total Modus: {total_modus.mode}')"
   ]
  },
  {
   "cell_type": "code",
   "execution_count": 59,
   "id": "7299da5f8ba59516",
   "metadata": {
    "ExecuteTime": {
     "end_time": "2024-01-27T07:55:50.481903222Z",
     "start_time": "2024-01-27T07:55:49.998156706Z"
    },
    "collapsed": false
   },
   "outputs": [
    {
     "data": {
      "image/png": "[encoded data removed]",
      "text/plain": [
       "<Figure size 1000x700 with 1 Axes>"
      ]
     },
     "metadata": {},
     "output_type": "display_data"
    }
   ],
   "source": [
    "# Visualisasi\n",
    "plt.figure(figsize=(10, 7))\n",
    "\n",
    "# Histogram\n",
    "sns.histplot(df['Total'], color='skyblue', label='Total Distribution')\n",
    "\n",
    "# Garis vertikal untuk mean, median, dan modus\n",
    "plt.axvline(total_mean, color='red', linestyle='dashed', linewidth=2, label='Mean')\n",
    "plt.axvline(total_median, color='green', linestyle='dashed', linewidth=2, label='Median')\n",
    "\n",
    "# Menambahkan label dan legenda\n",
    "plt.xlabel('Total')\n",
    "plt.ylabel('')\n",
    "plt.legend()\n",
    "\n",
    "# Menampilkan plot\n",
    "plt.show()"
   ]
  },
  {
   "cell_type": "markdown",
   "id": "faad5df83ea60ddf",
   "metadata": {
    "collapsed": false
   },
   "source": [
    "# COGS - Cost of Goods Sold (Mean, Median, Modus)"
   ]
  },
  {
   "cell_type": "code",
   "execution_count": 66,
   "id": "6466367c9bbe538",
   "metadata": {
    "ExecuteTime": {
     "end_time": "2024-01-27T08:24:57.894727217Z",
     "start_time": "2024-01-27T08:24:57.848895941Z"
    },
    "collapsed": false
   },
   "outputs": [
    {
     "name": "stdout",
     "output_type": "stream",
     "text": [
      "COGS Mean: 307.58738\n",
      "COGS Median: 241.76\n",
      "COGS Modus: 83.08\n"
     ]
    }
   ],
   "source": [
    "cogs_mean = np.mean(df['cogs'])\n",
    "cogs_median = np.median(df['cogs'])\n",
    "cogs_modus = mode(df['cogs'])\n",
    "\n",
    "print(f'COGS Mean: {cogs_mean}')\n",
    "print(f'COGS Median: {cogs_median}')\n",
    "print(f'COGS Modus: {cogs_modus.mode}')"
   ]
  },
  {
   "cell_type": "code",
   "execution_count": 67,
   "id": "9bb54c3bc891ea50",
   "metadata": {
    "ExecuteTime": {
     "end_time": "2024-01-27T08:24:59.825256898Z",
     "start_time": "2024-01-27T08:24:59.479338997Z"
    },
    "collapsed": false
   },
   "outputs": [
    {
     "data": {
      "image/png": "[encoded data removed]",
      "text/plain": [
       "<Figure size 1000x700 with 1 Axes>"
      ]
     },
     "metadata": {},
     "output_type": "display_data"
    }
   ],
   "source": [
    "# Visualisasi\n",
    "plt.figure(figsize=(10, 7))\n",
    "\n",
    "# Histogram\n",
    "sns.histplot(df['cogs'], color='skyblue', label='COGS Distribution')\n",
    "\n",
    "# Garis vertikal untuk mean, median, dan modus\n",
    "plt.axvline(cogs_mean, color='red', linestyle='dashed', linewidth=2, label='Mean')\n",
    "plt.axvline(cogs_median, color='green', linestyle='dashed', linewidth=2, label='Median')\n",
    "\n",
    "# Menambahkan label dan legenda\n",
    "plt.xlabel('COGS')\n",
    "plt.ylabel('')\n",
    "plt.legend()\n",
    "\n",
    "# Menampilkan plot\n",
    "plt.show()"
   ]
  },
  {
   "cell_type": "code",
   "execution_count": 94,
   "id": "b6b79f3fabb88e5b",
   "metadata": {
    "ExecuteTime": {
     "end_time": "2024-01-27T08:47:18.089732754Z",
     "start_time": "2024-01-27T08:47:17.436912757Z"
    },
    "collapsed": false
   },
   "outputs": [
    {
     "name": "stdout",
     "output_type": "stream",
     "text": [
      "date\n",
      "2019-01-31    1965\n",
      "2019-02-28    1654\n",
      "2019-03-31    1891\n",
      "Freq: ME, Name: Quantity, dtype: int64\n"
     ]
    },
    {
     "data": {
      "image/png": "[encoded data removed]",
      "text/plain": [
       "<Figure size 1200x600 with 1 Axes>"
      ]
     },
     "metadata": {},
     "output_type": "display_data"
    }
   ],
   "source": [
    "df['date'] = pd.to_datetime(df['Date'])\n",
    "\n",
    "# Memastikan bahwa data terurut berdasarkan tanggal\n",
    "df = df.sort_values(by='date')\n",
    "\n",
    "# Membuat DataFrame baru dengan kolom 'quantity' dijumlahkan per bulan\n",
    "monthly_df = df.resample('ME', on='date').sum()\n",
    "print(monthly_df.Quantity)\n",
    "\n",
    "# Atur ukuran font global untuk visualisasi Matplotlib dan Seaborn\n",
    "plt.rcParams.update({'font.size': 14})  # Ubah ukuran font sesuai kebutuhan\n",
    "\n",
    "# Visualisasi dengan Seaborn line plot\n",
    "plt.figure(figsize=(12, 6))\n",
    "sns.lineplot(x=monthly_df.index, y='Quantity', data=monthly_df, marker='o', label='Quantity')\n",
    "plt.title('Penjualan Tahun 2019 Pada Bulan Februari - April')\n",
    "plt.xlabel('Bulan')\n",
    "plt.ylabel('Total Kuantitas per Bulan')\n",
    "plt.legend()\n",
    "plt.xticks(rotation=45, ha='right')  # Rotasi dan perataan label tanggal\n",
    "plt.tight_layout()\n",
    "plt.show()"
   ]
  }
 ],
 "metadata": {
  "kernelspec": {
   "display_name": "Python 3",
   "language": "python",
   "name": "python3"
  },
  "language_info": {
   "codemirror_mode": {
    "name": "ipython",
    "version": 3
   },
   "file_extension": ".py",
   "mimetype": "text/x-python",
   "name": "python",
   "nbconvert_exporter": "python",
   "pygments_lexer": "ipython3",
   "version": "3.12.1"
  }
 },
 "nbformat": 4,
 "nbformat_minor": 5
}
